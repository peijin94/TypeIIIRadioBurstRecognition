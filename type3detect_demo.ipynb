{
 "cells": [
  {
   "cell_type": "code",
   "execution_count": null,
   "metadata": {},
   "outputs": [],
   "source": [
    "import os\n",
    "import matplotlib.dates as mdates\n",
    "import matplotlib.pyplot as plt\n",
    "import numpy as np\n",
    "import scipy\n",
    "import matplotlib as mpl\n",
    "\n",
    "from type3detect import detectRadioburst as drb\n",
    "\n",
    "%load_ext autoreload\n",
    "%autoreload 2"
   ]
  },
  {
   "cell_type": "code",
   "execution_count": null,
   "metadata": {},
   "outputs": [],
   "source": [
    "fname  = './LOFAR_20220701_070000_LBA_OUTER_S0.fits'\n",
    "\n",
    "(dyspec,t_fits,f_fits,hdu)  = drb.read_fits(fname)\n",
    "(dyspec,f_fits) =  drb.cut_low(dyspec,f_fits,f_low_cut_val=30)"
   ]
  },
  {
   "cell_type": "code",
   "execution_count": null,
   "metadata": {},
   "outputs": [],
   "source": [
    "(data_fits_new,data_fits_new_smooth) = drb.preproc(dyspec,gauss_sigma=1.5)\n",
    "\n",
    "fig = plt.figure(figsize=(6, 4), dpi=120)\n",
    "ax = plt.gca()\n",
    "\n",
    "data_safe_arr = data_fits_new_smooth.ravel()\n",
    "data_safe = np.sort(data_safe_arr)[int(data_safe_arr.shape[0] * 0.02):int(data_safe_arr.shape[0] * 0.98)]\n",
    "vmin,vmax = [(np.nanmean(data_safe) - 2 * np.nanstd(data_safe)),\n",
    "                  (np.nanmean(data_safe) + 4 * np.nanstd(data_safe)+0.5*np.nanmax(data_safe))]\n",
    "        \n",
    "ax.imshow(data_fits_new_smooth.T,aspect='auto',  origin='lower', vmax=vmax,vmin=vmin,\n",
    "                   extent=[t_fits[0],t_fits[-1],f_fits[0],f_fits[-1]],cmap='inferno')\n",
    "\n",
    "ax.xaxis_date()\n",
    "ax.xaxis.set_major_formatter(mdates.DateFormatter('%H:%M'))\n",
    "ax.set_xlabel('Time (UT)')\n",
    "ax.set_ylabel('Frequency (MHz)')\n",
    "ax.set_title(hdu[0].header['CONTENT'])"
   ]
  },
  {
   "cell_type": "markdown",
   "metadata": {},
   "source": [
    "## Binarization Local max "
   ]
  },
  {
   "cell_type": "markdown",
   "metadata": {},
   "source": [
    "Threshold: $$I> I_{thresh}$$\n",
    "\n",
    "Local-max: $$ I_{i-1}< I_{i}> I_{i+1} $$\n",
    "\n",
    "Second order Local-max: $$ I_{i-2}< I_{i-1}< I_{i}> I_{i+1}> I_{i+2} $$\n",
    "\n",
    "Second order Local-max with ratio R=1.2: $$ R^2 \\times I_{i-2}< R \\times I_{i-1}< I_{i}> R\\times I_{i+1}> R^2 \\times I_{i+2} $$\n"
   ]
  },
  {
   "cell_type": "code",
   "execution_count": null,
   "metadata": {},
   "outputs": [],
   "source": [
    "# binarization\n",
    "bmap = drb.binarization(data_fits_new_smooth,N_order=6,peak_r=1.002)"
   ]
  },
  {
   "cell_type": "code",
   "execution_count": null,
   "metadata": {},
   "outputs": [],
   "source": [
    "fig,ax = plt.subplots(1,1,figsize=[6,3],dpi=200)\n",
    "ax.imshow(1-bmap.T,aspect='auto', origin='lower',cmap='gray')"
   ]
  },
  {
   "cell_type": "code",
   "execution_count": null,
   "metadata": {},
   "outputs": [],
   "source": [
    "fig = plt.figure(figsize=[6,3],dpi=200)\n",
    "plt.imshow(data_fits_new_smooth.T,aspect='auto',origin='lower',vmax=vmax,vmin=vmin/2-vmax/2)\n",
    "plt.contour(bmap.T,[0,0.5,1],colors='k')\n",
    "plt.title(\"overplot binary map to spectrum\")"
   ]
  },
  {
   "cell_type": "markdown",
   "metadata": {},
   "source": [
    "## Hough transform\n",
    "\n",
    "Identify type-III (line-like features) in the image using the Hough transform."
   ]
  },
  {
   "cell_type": "code",
   "execution_count": null,
   "metadata": {},
   "outputs": [],
   "source": [
    "# detect verticle features\n",
    "lines = drb.hough_detect(bmap,dyspec,threshold=40,line_gap=10,line_length=30,\n",
    "            theta=np.linspace(np.pi/2-np.pi/8,np.pi/2-1/180*np.pi,300))"
   ]
  },
  {
   "cell_type": "code",
   "execution_count": null,
   "metadata": {},
   "outputs": [],
   "source": [
    "fig,ax = plt.subplots(1,1,figsize=[6,3],dpi=200)\n",
    "lines = sorted(lines, key=lambda i: i[0][1])\n",
    "ax.imshow(1-bmap.T,aspect='auto',origin='lower',cmap='gray')\n",
    "for line in lines:\n",
    "    p0,p1= line\n",
    "    ax.plot( (p0[1], p1[1]),(p0[0], p1[0]),':')\n"
   ]
  },
  {
   "cell_type": "code",
   "execution_count": null,
   "metadata": {},
   "outputs": [],
   "source": [
    "line_sets = drb.line_grouping(lines)\n",
    "# group the detected lines into group in regard of events"
   ]
  },
  {
   "cell_type": "code",
   "execution_count": null,
   "metadata": {},
   "outputs": [],
   "source": [
    "fig,ax = plt.subplots(1,1,figsize=[6,3],dpi=200)\n",
    "ax.imshow(data_fits_new_smooth.T,aspect='auto',origin='lower',vmax=vmax,vmin=vmin,cmap='gray')\n",
    "\n",
    "for idx,lines in enumerate(line_sets):\n",
    "    for line in lines:\n",
    "        p0,p1= line\n",
    "        ax.plot( (p0[1], p1[1]),(p0[0], p1[0]),color='C'+str(idx+1))\n",
    "        ax.plot( (p0[1], p1[1]),(p0[0], p1[0]),'k+',zorder=10)\n",
    "    #ax.set_xlim((500,600))\n",
    "#ax.set_ylim((bmap.shape[0], 0))"
   ]
  },
  {
   "cell_type": "markdown",
   "metadata": {},
   "source": [
    "## Model the electron beam\n",
    "\n",
    "To describe the t and f points in the radio burst.\n",
    "\n",
    "Model a electron beam going outward with a speed of v_{beam}, with a starting time $t_0$, we can have r(t).\n",
    "\n",
    "With a density model:\n",
    "\n",
    "$$N_e(r) = 4.8\\times 10^9/r^{14} + 3\\times 10^8/r^6+1.39\\times 10^6/r^{2.3}+n_0 $$\n",
    "\n",
    "And $f=8.93\\times 10^3 \\sqrt{N_e}$\n",
    "\n",
    "We can have a f(t) from the model, which is the frequency drift line.\n",
    "\n",
    "The modeling procedure is to find a combination of $[v_{beam},t_0]$ to make the output of the model f(t) fit best to the data points above"
   ]
  },
  {
   "cell_type": "code",
   "execution_count": null,
   "metadata": {},
   "outputs": [],
   "source": [
    "from type3detect import radioTools as rt"
   ]
  },
  {
   "cell_type": "code",
   "execution_count": null,
   "metadata": {},
   "outputs": [],
   "source": [
    "#(rt.freq_to_R(20e6)-rt.freq_to_R(80e6))/rt.c_r"
   ]
  },
  {
   "cell_type": "code",
   "execution_count": null,
   "metadata": {},
   "outputs": [],
   "source": [
    "(v_beam, f_range_burst, t_range_burst, model_curve_set,\n",
    "     t_set_arr_set,f_set_arr_set,t_model_arr,f_model_arr\n",
    "    )= drb.get_info_from_linegroup(line_sets,t_fits,f_fits)"
   ]
  },
  {
   "cell_type": "code",
   "execution_count": null,
   "metadata": {},
   "outputs": [],
   "source": [
    "plt.plot(t_set_arr_set[0],f_set_arr_set[0],'x')"
   ]
  },
  {
   "cell_type": "code",
   "execution_count": null,
   "metadata": {},
   "outputs": [],
   "source": [
    "plt.plot(t_model_arr,f_model_arr)"
   ]
  },
  {
   "cell_type": "code",
   "execution_count": null,
   "metadata": {},
   "outputs": [],
   "source": []
  },
  {
   "cell_type": "code",
   "execution_count": null,
   "metadata": {},
   "outputs": [],
   "source": [
    "line_sets"
   ]
  },
  {
   "cell_type": "code",
   "execution_count": null,
   "metadata": {},
   "outputs": [],
   "source": []
  },
  {
   "cell_type": "code",
   "execution_count": null,
   "metadata": {},
   "outputs": [],
   "source": [
    "fig,ax = plt.subplots(1,1,figsize=[6,3],dpi=200)\n",
    "lines = sorted(lines, key=lambda i: i[0][1])\n",
    "ax.imshow(data_fits_new.T,aspect='auto',origin='lower', vmax=vmax,vmin=vmin,cmap='gray',\n",
    "                   extent=[t_fits[0],t_fits[-1],f_fits[0],f_fits[-1]])\n",
    "for idx,model in enumerate(model_curve_set):\n",
    "    if (v_beam[idx] > 0) and (v_beam[idx] < 0.9):\n",
    "        plt.plot(model[0],model[1],ls='--')\n",
    "        plt.plot(t_range_burst[idx],f_range_burst[idx],'k+')\n",
    "    \n",
    "\n",
    "\n",
    "ax.xaxis_date()\n",
    "ax.xaxis.set_major_formatter(mdates.DateFormatter('%H:%M'))\n",
    "ax.set_xlabel('Time (UT)')\n",
    "ax.set_ylabel('Frequency (MHz)')\n",
    "ax.set_title(hdu[0].header['CONTENT'])\n",
    "\n",
    "\n",
    "#ax.set_xlim([t_fits[200],t_fits[400]])\n",
    "#plt.ylim([10,88])\n"
   ]
  },
  {
   "cell_type": "code",
   "execution_count": null,
   "metadata": {},
   "outputs": [],
   "source": [
    "# dump information to Json file\n",
    "import json"
   ]
  },
  {
   "cell_type": "code",
   "execution_count": null,
   "metadata": {},
   "outputs": [],
   "source": [
    "fname_json  = fname.replace('.fits','.json')"
   ]
  },
  {
   "cell_type": "code",
   "execution_count": null,
   "metadata": {},
   "outputs": [],
   "source": [
    "with open(fname_json, 'r') as fp:\n",
    "    dict_old = json.load(fp)\n",
    "fp.close()"
   ]
  },
  {
   "cell_type": "code",
   "execution_count": null,
   "metadata": {},
   "outputs": [],
   "source": [
    "(t_range_burst[0][1]-t_range_burst[0][0])*3600*24"
   ]
  },
  {
   "cell_type": "code",
   "execution_count": null,
   "metadata": {},
   "outputs": [],
   "source": [
    "dict_old"
   ]
  },
  {
   "cell_type": "code",
   "execution_count": null,
   "metadata": {},
   "outputs": [],
   "source": [
    "event_detail = []\n",
    "for idx,v_cur in enumerate(v_beam):\n",
    "    event_detail.append({\n",
    "        'v_beam':v_cur,\n",
    "        'freq_range':((f_range_burst[idx])),\n",
    "        'time_range':((t_range_burst[idx])),\n",
    "        'str_time':mdates.num2date(t_range_burst[idx][0]).strftime(\"%H:%M:%S\")})"
   ]
  },
  {
   "cell_type": "code",
   "execution_count": null,
   "metadata": {},
   "outputs": [],
   "source": [
    "dict_old['event']={\n",
    "    'detection': True,\n",
    "    'type':'III',\n",
    "    'detail': event_detail\n",
    "}"
   ]
  },
  {
   "cell_type": "code",
   "execution_count": null,
   "metadata": {},
   "outputs": [],
   "source": [
    "dict_old"
   ]
  },
  {
   "cell_type": "code",
   "execution_count": null,
   "metadata": {},
   "outputs": [],
   "source": [
    "with open('test.json', 'w') as fp:\n",
    "     json.dump(dict_old,fp)\n",
    "fp.close()"
   ]
  },
  {
   "cell_type": "code",
   "execution_count": null,
   "metadata": {},
   "outputs": [],
   "source": []
  },
  {
   "cell_type": "code",
   "execution_count": null,
   "metadata": {
    "tags": []
   },
   "outputs": [],
   "source": [
    "# write all events to a event list\n",
    "\n",
    "import os\n",
    "csv_fname = 'event.csv'\n",
    "os.system('rm '+csv_fname)\n",
    "id_event  = 0\n",
    "with open(csv_fname,'w') as fp:\n",
    "    fp.write('''ID, t, t0_num, t1_num,f_0,f_1, dfdt(MHz/s), v_b(c)\n",
    "             ''')\n",
    "\n",
    "with open(csv_fname,'a') as fp:\n",
    "    \n",
    "    for idx,v_cur in enumerate(v_beam):\n",
    "        fp.write(str(id_event)+','+mdates.num2date(t_range_burst[idx][0]).strftime(\"%y-%m-%d %H:%M:%S\")+','\n",
    "             +str(t_range_burst[idx][0])+','+str(t_range_burst[idx][1])+','\n",
    "             +str(f_range_burst[idx][0])+','+str(f_range_burst[idx][1])+','\n",
    "             +str((np.max(f_set_arr_set[idx])-np.min(f_set_arr_set[idx]))/\n",
    "             (np.max(t_set_arr_set[idx])-np.min(t_set_arr_set[idx])))+','\n",
    "             +str(v_beam[idx])\n",
    "             +'''\n",
    "             ''')\n",
    "        id_event+=1\n",
    "fp.close()"
   ]
  },
  {
   "cell_type": "code",
   "execution_count": null,
   "metadata": {},
   "outputs": [],
   "source": [
    "\n",
    "os.system('pwd')"
   ]
  },
  {
   "cell_type": "code",
   "execution_count": null,
   "metadata": {},
   "outputs": [],
   "source": [
    "import glob"
   ]
  },
  {
   "cell_type": "code",
   "execution_count": null,
   "metadata": {},
   "outputs": [],
   "source": [
    "glob.glob('L*')"
   ]
  },
  {
   "cell_type": "code",
   "execution_count": null,
   "metadata": {},
   "outputs": [],
   "source": []
  }
 ],
 "metadata": {
  "kernelspec": {
   "display_name": "Python 3.9.7 ('base')",
   "language": "python",
   "name": "python3"
  },
  "language_info": {
   "codemirror_mode": {
    "name": "ipython",
    "version": 3
   },
   "file_extension": ".py",
   "mimetype": "text/x-python",
   "name": "python",
   "nbconvert_exporter": "python",
   "pygments_lexer": "ipython3",
   "version": "3.9.7"
  },
  "vscode": {
   "interpreter": {
    "hash": "86cd6e3326b248843c7d08db0154f33baa30340e37cfcc487eea1f08ebe2e630"
   }
  }
 },
 "nbformat": 4,
 "nbformat_minor": 4
}
